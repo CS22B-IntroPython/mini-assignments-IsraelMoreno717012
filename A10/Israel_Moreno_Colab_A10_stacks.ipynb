{
  "cells": [
    {
      "cell_type": "markdown",
      "source": [
        "##**Stack Questions**"
      ],
      "metadata": {
        "id": "cP32wAV3Yi-4"
      }
    },
    {
      "cell_type": "markdown",
      "source": [
        "## Question 1: Write a function to sort a stack."
      ],
      "metadata": {
        "id": "KqdNjm1oY_ss"
      }
    },
    {
      "cell_type": "code",
      "source": [
        "def sort_stack(stack):\n",
        "  # Your code here\n",
        "    temp_stack = []\n",
        "\n",
        "    while stack:\n",
        "        temp = stack.pop()\n",
        "\n",
        "        while temp_stack and temp_stack[-1] > temp:\n",
        "            stack.append(temp_stack.pop())\n",
        "\n",
        "        temp_stack.append(temp)\n",
        "\n",
        "    while temp_stack:\n",
        "        stack.append(temp_stack.pop())\n",
        "\n",
        "    return stack\n",
        "\n",
        "stack = [34, 3, 31, 98, 92, 23]\n",
        "print(sort_stack(stack))"
      ],
      "metadata": {
        "id": "mb9K46p3Ym0N",
        "colab": {
          "base_uri": "https://localhost:8080/"
        },
        "outputId": "42989669-b292-4d7d-97f7-77df338bbca8"
      },
      "execution_count": 18,
      "outputs": [
        {
          "output_type": "stream",
          "name": "stdout",
          "text": [
            "[98, 92, 34, 31, 23, 3]\n"
          ]
        }
      ]
    },
    {
      "cell_type": "markdown",
      "metadata": {
        "id": "jFxb6ss_Whwl"
      },
      "source": [
        "## Question 2: Depict the following image as a list.\n",
        "\n",
        "<img src=\"https://miro.medium.com/max/1050/1*XifPIMxbamGKhz5UAEdz2w.png\">\n",
        "\n",
        "#### Queue\n",
        "1. Add the number 9 to the list.\n",
        "2. Remove the first number (7) from the list.\n",
        "\n",
        "#### Stack\n",
        "3. Add the number 4 to the same list.\n",
        "4. Remove the last number added (4) from the list."
      ]
    },
    {
      "cell_type": "code",
      "execution_count": 13,
      "metadata": {
        "id": "XOm7YLTEWhwm"
      },
      "outputs": [],
      "source": [
        "#Your Answer:\n",
        "queue = [3, 1, 6, 8, 9]\n",
        "stack = [3, 1, 6, 8, 9]"
      ]
    },
    {
      "cell_type": "markdown",
      "metadata": {
        "id": "tQ3kgHVtWhwn"
      },
      "source": [
        "#### Question 3: Nodes\n",
        "\n",
        "<img src=\"https://encrypted-tbn0.gstatic.com/images?q=tbn:ANd9GcQW8-twGk0hCILE-muHBnG93hZJh2Qvgs7pVA&s\">\n",
        "\n",
        "1. Use a data structure of your choice to denote the different nodes.\n",
        "\n",
        "2. Create a function that sums all of the \"children\". Test with the node 10 (Expected answer is 37).\n"
      ]
    },
    {
      "cell_type": "code",
      "execution_count": 15,
      "metadata": {
        "id": "UU0rjzjXWhwn"
      },
      "outputs": [],
      "source": [
        "#Your Answer:\n",
        "class TreeNode:\n",
        "    def __init__(self, value):\n",
        "        self.value = value\n",
        "        self.children = []\n",
        "\n",
        "    def add_child(self, child_node):\n",
        "        \"\"\"Adds a child node to the current node.\"\"\"\n",
        "        self.children.append(child_node)\n",
        "\n"
      ]
    },
    {
      "cell_type": "code",
      "source": [
        "node_8 = TreeNode(8)\n",
        "node_3 = TreeNode(3)\n",
        "node_10 = TreeNode(10)\n",
        "node_1 = TreeNode(1)\n",
        "node_6 = TreeNode(6)\n",
        "node_14 = TreeNode(14)\n",
        "node_4 = TreeNode(4)\n",
        "node_7 = TreeNode(7)\n",
        "node_13 = TreeNode(13)\n",
        "\n",
        "# Establishing parent-child relationships\n",
        "node_8.children = [node_3, node_10]\n",
        "node_3.children = [node_1, node_6]\n",
        "node_10.children = [node_14]\n",
        "node_1.children = [node_4, node_7]\n",
        "node_14.children = [node_13]"
      ],
      "metadata": {
        "id": "SiShq3_SWiNV"
      },
      "execution_count": 16,
      "outputs": []
    },
    {
      "cell_type": "code",
      "source": [
        "def sum_children(node):\n",
        "    \"\"\"Returns the sum of all direct children of the given node.\"\"\"\n",
        "    return sum(child.value for child in node.children)\n",
        "\n",
        "print(sum_children(node_10))  # Expected output: 37 (14 + 13 + 10)"
      ],
      "metadata": {
        "colab": {
          "base_uri": "https://localhost:8080/"
        },
        "id": "5DS0ki1WWjTH",
        "outputId": "2de83d61-fe72-4783-b1c3-407d2f955d53"
      },
      "execution_count": 17,
      "outputs": [
        {
          "output_type": "stream",
          "name": "stdout",
          "text": [
            "14\n"
          ]
        }
      ]
    }
  ],
  "metadata": {
    "hide_input": false,
    "kernelspec": {
      "display_name": "Python 3",
      "language": "python",
      "name": "python3"
    },
    "language_info": {
      "codemirror_mode": {
        "name": "ipython",
        "version": 3
      },
      "file_extension": ".py",
      "mimetype": "text/x-python",
      "name": "python",
      "nbconvert_exporter": "python",
      "pygments_lexer": "ipython3",
      "version": "3.8.3"
    },
    "toc": {
      "base_numbering": 1,
      "nav_menu": {},
      "number_sections": true,
      "sideBar": true,
      "skip_h1_title": false,
      "title_cell": "Table of Contents",
      "title_sidebar": "Contents",
      "toc_cell": false,
      "toc_position": {},
      "toc_section_display": true,
      "toc_window_display": false
    },
    "colab": {
      "provenance": []
    }
  },
  "nbformat": 4,
  "nbformat_minor": 0
}